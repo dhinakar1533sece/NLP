{
  "nbformat": 4,
  "nbformat_minor": 0,
  "metadata": {
    "colab": {
      "private_outputs": true,
      "provenance": []
    },
    "kernelspec": {
      "name": "python3",
      "display_name": "Python 3"
    },
    "language_info": {
      "name": "python"
    }
  },
  "cells": [
    {
      "cell_type": "code",
      "execution_count": null,
      "metadata": {
        "id": "Zkyd37U0NT8b"
      },
      "outputs": [],
      "source": [
        "import torch\n",
        "import numpy as np\n",
        "import seaborn as sns\n",
        "import matplotlib.pyplot as plt\n",
        "from transformers import BertTokenizer, BertModel"
      ]
    },
    {
      "cell_type": "code",
      "source": [
        "tokenizer = BertTokenizer.from_pretrained('bert-base-uncased')\n",
        "model = BertModel.from_pretrained('bert-base-uncased', output_attentions=True)"
      ],
      "metadata": {
        "id": "8ontK924OBLV"
      },
      "execution_count": null,
      "outputs": []
    },
    {
      "cell_type": "code",
      "source": [
        "def visualize_attention(text):\n",
        "    tokens = tokenizer(text, return_tensors='pt', truncation=True, padding=True)\n",
        "    with torch.no_grad():\n",
        "        outputs = model(**tokens)\n",
        "    attention = outputs.attentions[-1]\n",
        "    return attention, tokens"
      ],
      "metadata": {
        "id": "ec6YZCkiOOvB"
      },
      "execution_count": null,
      "outputs": []
    },
    {
      "cell_type": "code",
      "source": [
        "text = \"Medical Analysis.\"\n",
        "attention, tokens = visualize_attention(text)\n",
        "\n",
        "attn_scores = attention[0].mean(dim=0).numpy()\n",
        "tokenized_text = tokenizer.convert_ids_to_tokens(tokens['input_ids'][0])"
      ],
      "metadata": {
        "id": "aKp1I428OT69"
      },
      "execution_count": null,
      "outputs": []
    },
    {
      "cell_type": "code",
      "source": [
        "plt.figure(figsize=(10, 5))\n",
        "sns.heatmap(attn_scores, xticklabels=tokenized_text, yticklabels=tokenized_text, cmap='viridis')\n",
        "plt.title(\"Attention Heatmap\")\n",
        "plt.show()"
      ],
      "metadata": {
        "id": "A_V8SDAZOY5N"
      },
      "execution_count": null,
      "outputs": []
    },
    {
      "cell_type": "code",
      "source": [
        "note1 = \"Patient reports persistent cough, high fever, and difficulty breathing for the past three days.\"\n",
        "note2 = \"Mild headache and occasional dizziness, but no fever or cough.\"\n",
        "note3 = \"Patient exhibits cyanosis and severe chest pain, indicative of a critical condition.\""
      ],
      "metadata": {
        "id": "HOZCCqg3O50s"
      },
      "execution_count": null,
      "outputs": []
    },
    {
      "cell_type": "code",
      "source": [
        "visualize_attention(note1)\n",
        "visualize_attention(note2)\n",
        "visualize_attention(note3)"
      ],
      "metadata": {
        "id": "lRIMVu_TPA58"
      },
      "execution_count": null,
      "outputs": []
    }
  ]
}